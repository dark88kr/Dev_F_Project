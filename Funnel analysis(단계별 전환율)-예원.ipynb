{
 "cells": [
  {
   "cell_type": "code",
   "execution_count": 4,
   "id": "905e44eb",
   "metadata": {},
   "outputs": [],
   "source": [
    "import pandas as pd\n",
    "\n",
    "# 파일 경로\n",
    "file_path = \"C:/Users/cysy0/Desktop/programmers/work/a_final_project/hits/hits_preprocessing_compressed.csv\"\n",
    "\n",
    "df = pd.read_csv(file_path)"
   ]
  },
  {
   "cell_type": "markdown",
   "id": "bb8114ec",
   "metadata": {},
   "source": [
    "# 3. 데이터 추출 및 가공"
   ]
  },
  {
   "cell_type": "markdown",
   "id": "b2ffd813",
   "metadata": {},
   "source": [
    "## 3.1 각 단계별 이용자(session) 수 집계"
   ]
  },
  {
   "cell_type": "code",
   "execution_count": 21,
   "id": "614f5b57",
   "metadata": {},
   "outputs": [
    {
     "data": {
      "text/html": [
       "<div>\n",
       "<style scoped>\n",
       "    .dataframe tbody tr th:only-of-type {\n",
       "        vertical-align: middle;\n",
       "    }\n",
       "\n",
       "    .dataframe tbody tr th {\n",
       "        vertical-align: top;\n",
       "    }\n",
       "\n",
       "    .dataframe thead th {\n",
       "        text-align: right;\n",
       "    }\n",
       "</style>\n",
       "<table border=\"1\" class=\"dataframe\">\n",
       "  <thead>\n",
       "    <tr style=\"text-align: right;\">\n",
       "      <th></th>\n",
       "      <th>session</th>\n",
       "      <th>actionTypePath</th>\n",
       "    </tr>\n",
       "  </thead>\n",
       "  <tbody>\n",
       "    <tr>\n",
       "      <th>836641</th>\n",
       "      <td>2315434531492568643_1472466383</td>\n",
       "      <td>0(34) &gt; 1(1) &gt; 2(1) &gt; 1(1) &gt; 0(71)</td>\n",
       "    </tr>\n",
       "    <tr>\n",
       "      <th>836642</th>\n",
       "      <td>0578848656723926834_1471438577</td>\n",
       "      <td>0(108)</td>\n",
       "    </tr>\n",
       "    <tr>\n",
       "      <th>836643</th>\n",
       "      <td>3447506485469510326_1481874224</td>\n",
       "      <td>0(108)</td>\n",
       "    </tr>\n",
       "    <tr>\n",
       "      <th>836644</th>\n",
       "      <td>3391371207605838551_1483240868</td>\n",
       "      <td>0(22) &gt; 2(1) &gt; 1(1) &gt; 3(2) &gt; 0(9) &gt; 1(1) &gt; 2(1...</td>\n",
       "    </tr>\n",
       "    <tr>\n",
       "      <th>836645</th>\n",
       "      <td>4316919564102086136_1470972059</td>\n",
       "      <td>0(36) &gt; 1(1) &gt; 2(1) &gt; 0(70)</td>\n",
       "    </tr>\n",
       "    <tr>\n",
       "      <th>836646</th>\n",
       "      <td>2144445028737486275_1485251370</td>\n",
       "      <td>0(108)</td>\n",
       "    </tr>\n",
       "    <tr>\n",
       "      <th>836647</th>\n",
       "      <td>8953055789216462710_1471784782</td>\n",
       "      <td>0(108)</td>\n",
       "    </tr>\n",
       "    <tr>\n",
       "      <th>836648</th>\n",
       "      <td>6773744630323309395_1500846766</td>\n",
       "      <td>0(22) &gt; 1(1) &gt; 2(1) &gt; 3(1) &gt; 0(12) &gt; 1(1) &gt; 2(...</td>\n",
       "    </tr>\n",
       "    <tr>\n",
       "      <th>836649</th>\n",
       "      <td>5208937953046059083_1481036730</td>\n",
       "      <td>0(108)</td>\n",
       "    </tr>\n",
       "    <tr>\n",
       "      <th>836650</th>\n",
       "      <td>6332726888827801827_1477597060</td>\n",
       "      <td>0(108)</td>\n",
       "    </tr>\n",
       "  </tbody>\n",
       "</table>\n",
       "</div>"
      ],
      "text/plain": [
       "                               session  \\\n",
       "836641  2315434531492568643_1472466383   \n",
       "836642  0578848656723926834_1471438577   \n",
       "836643  3447506485469510326_1481874224   \n",
       "836644  3391371207605838551_1483240868   \n",
       "836645  4316919564102086136_1470972059   \n",
       "836646  2144445028737486275_1485251370   \n",
       "836647  8953055789216462710_1471784782   \n",
       "836648  6773744630323309395_1500846766   \n",
       "836649  5208937953046059083_1481036730   \n",
       "836650  6332726888827801827_1477597060   \n",
       "\n",
       "                                           actionTypePath  \n",
       "836641                 0(34) > 1(1) > 2(1) > 1(1) > 0(71)  \n",
       "836642                                             0(108)  \n",
       "836643                                             0(108)  \n",
       "836644  0(22) > 2(1) > 1(1) > 3(2) > 0(9) > 1(1) > 2(1...  \n",
       "836645                        0(36) > 1(1) > 2(1) > 0(70)  \n",
       "836646                                             0(108)  \n",
       "836647                                             0(108)  \n",
       "836648  0(22) > 1(1) > 2(1) > 3(1) > 0(12) > 1(1) > 2(...  \n",
       "836649                                             0(108)  \n",
       "836650                                             0(108)  "
      ]
     },
     "execution_count": 21,
     "metadata": {},
     "output_type": "execute_result"
    }
   ],
   "source": [
    "df[df['hits'] >= 100][['session','actionTypePath']].head(10)"
   ]
  },
  {
   "cell_type": "code",
   "execution_count": 25,
   "id": "694f92a8",
   "metadata": {},
   "outputs": [
    {
     "name": "stdout",
     "output_type": "stream",
     "text": [
      "1단계(0)-방문 및 탐색: 769607명\n",
      "2단계(1,2)-상세 페이지 조회: 79141명\n",
      "3단계(3,4)-장바구니 추가: 31614명\n",
      "4단계(5)-결제 진행: 10842명\n",
      "5단계(6)-구매 완료: 11551명\n"
     ]
    }
   ],
   "source": [
    "# 퍼널 단계 정의\n",
    "step1_explore = df.loc[df['maxActionType'] == 0, 'session'].nunique()\n",
    "step2_click = df.loc[df['maxActionType'].isin([1, 2]), 'session'].nunique()\n",
    "step3_cart = df.loc[df['maxActionType'].isin([3, 4]), 'session'].nunique()\n",
    "step4_checkout = df.loc[df['maxActionType'] == 5, 'session'].nunique()\n",
    "step5_complete = df.loc[df['maxActionType'] == 6, 'session'].nunique()\n",
    "\n",
    "# 결과 출력\n",
    "print(f\"1단계(0)-방문 및 탐색: {step1_explore}명\")\n",
    "print(f\"2단계(1,2)-상세 페이지 조회: {step2_click}명\")\n",
    "print(f\"3단계(3,4)-장바구니 추가: {step3_cart}명\")\n",
    "print(f\"4단계(5)-결제 진행: {step4_checkout}명\")\n",
    "print(f\"5단계(6)-구매 완료: {step5_complete}명\")\n"
   ]
  },
  {
   "cell_type": "code",
   "execution_count": 23,
   "id": "fb6b373b",
   "metadata": {},
   "outputs": [
    {
     "data": {
      "text/plain": [
       "maxActionType\n",
       "0    769607\n",
       "2     78892\n",
       "3     26762\n",
       "6     11551\n",
       "5     10842\n",
       "4      4852\n",
       "1       249\n",
       "Name: count, dtype: int64"
      ]
     },
     "execution_count": 23,
     "metadata": {},
     "output_type": "execute_result"
    }
   ],
   "source": [
    "df['maxActionType'].value_counts()"
   ]
  },
  {
   "cell_type": "code",
   "execution_count": 28,
   "id": "f10be554",
   "metadata": {},
   "outputs": [
    {
     "data": {
      "text/html": [
       "<div>\n",
       "<style scoped>\n",
       "    .dataframe tbody tr th:only-of-type {\n",
       "        vertical-align: middle;\n",
       "    }\n",
       "\n",
       "    .dataframe tbody tr th {\n",
       "        vertical-align: top;\n",
       "    }\n",
       "\n",
       "    .dataframe thead th {\n",
       "        text-align: right;\n",
       "    }\n",
       "</style>\n",
       "<table border=\"1\" class=\"dataframe\">\n",
       "  <thead>\n",
       "    <tr style=\"text-align: right;\">\n",
       "      <th></th>\n",
       "      <th>session</th>\n",
       "      <th>converted</th>\n",
       "      <th>dates</th>\n",
       "      <th>visitStartTime</th>\n",
       "      <th>channelGrouping</th>\n",
       "      <th>visitNumber</th>\n",
       "      <th>hits</th>\n",
       "      <th>pageviews</th>\n",
       "      <th>timeOnSite</th>\n",
       "      <th>newVisits</th>\n",
       "      <th>...</th>\n",
       "      <th>pageTitlePath</th>\n",
       "      <th>eventActionPath</th>\n",
       "      <th>eventLabelPath</th>\n",
       "      <th>hitTimeSpentPath</th>\n",
       "      <th>productSummaryPath</th>\n",
       "      <th>promotionSummaryPath</th>\n",
       "      <th>actionTypePath</th>\n",
       "      <th>maxActionType</th>\n",
       "      <th>socialNetwork</th>\n",
       "      <th>contentGroupPath</th>\n",
       "    </tr>\n",
       "  </thead>\n",
       "  <tbody>\n",
       "    <tr>\n",
       "      <th>41026</th>\n",
       "      <td>3073078568683703817_1492455965</td>\n",
       "      <td>0</td>\n",
       "      <td>20170417</td>\n",
       "      <td>1492455965</td>\n",
       "      <td>Direct</td>\n",
       "      <td>1</td>\n",
       "      <td>1</td>\n",
       "      <td>1.0</td>\n",
       "      <td>NaN</td>\n",
       "      <td>1.0</td>\n",
       "      <td>...</td>\n",
       "      <td>Checkout Your Information(1)</td>\n",
       "      <td>nan(1)</td>\n",
       "      <td>nan(1)</td>\n",
       "      <td>nan(1)</td>\n",
       "      <td>1.YouTube Men's Short Sleeve Hero Tee Black | ...</td>\n",
       "      <td>1.NA | 2.NA | 3.NA | 4.NA(1)</td>\n",
       "      <td>5.1(1)</td>\n",
       "      <td>5</td>\n",
       "      <td>(not set)</td>\n",
       "      <td>(not set) / (not set) / (not set)(1)</td>\n",
       "    </tr>\n",
       "    <tr>\n",
       "      <th>65982</th>\n",
       "      <td>5590925533421505689_1477450661</td>\n",
       "      <td>0</td>\n",
       "      <td>20161025</td>\n",
       "      <td>1477450661</td>\n",
       "      <td>Organic Search</td>\n",
       "      <td>2</td>\n",
       "      <td>1</td>\n",
       "      <td>1.0</td>\n",
       "      <td>NaN</td>\n",
       "      <td>NaN</td>\n",
       "      <td>...</td>\n",
       "      <td>Payment Method(1)</td>\n",
       "      <td>nan(1)</td>\n",
       "      <td>nan(1)</td>\n",
       "      <td>nan(1)</td>\n",
       "      <td>1.Google Sunglasses | 2.0 | 3.(not set) | 4.NA...</td>\n",
       "      <td>1.NA | 2.NA | 3.NA | 4.NA(1)</td>\n",
       "      <td>5.2(1)</td>\n",
       "      <td>5</td>\n",
       "      <td>(not set)</td>\n",
       "      <td>(not set) / (not set) / (not set)(1)</td>\n",
       "    </tr>\n",
       "    <tr>\n",
       "      <th>229150</th>\n",
       "      <td>6673624137905539505_1487086702</td>\n",
       "      <td>0</td>\n",
       "      <td>20170214</td>\n",
       "      <td>1487086702</td>\n",
       "      <td>Direct</td>\n",
       "      <td>3</td>\n",
       "      <td>2</td>\n",
       "      <td>2.0</td>\n",
       "      <td>654.0</td>\n",
       "      <td>NaN</td>\n",
       "      <td>...</td>\n",
       "      <td>Shopping Cart(1) &gt; Checkout Your Information(1)</td>\n",
       "      <td>NA(2)</td>\n",
       "      <td>NA(2)</td>\n",
       "      <td>653.81(1)</td>\n",
       "      <td>1.NA | 2.NA | 3.NA | 4.NA | 5.NA | 6.NA | 7.NA...</td>\n",
       "      <td>1.NA | 2.NA | 3.NA | 4.NA(2)</td>\n",
       "      <td>0(1) &gt; 5.1(1)</td>\n",
       "      <td>5</td>\n",
       "      <td>(not set)</td>\n",
       "      <td>(not set) / (not set) / (not set)(2)</td>\n",
       "    </tr>\n",
       "    <tr>\n",
       "      <th>246925</th>\n",
       "      <td>9833431631650180427_1471125943</td>\n",
       "      <td>0</td>\n",
       "      <td>20160813</td>\n",
       "      <td>1471125943</td>\n",
       "      <td>Direct</td>\n",
       "      <td>1</td>\n",
       "      <td>2</td>\n",
       "      <td>1.0</td>\n",
       "      <td>NaN</td>\n",
       "      <td>1.0</td>\n",
       "      <td>...</td>\n",
       "      <td>Checkout Your Information(2)</td>\n",
       "      <td>NA(2)</td>\n",
       "      <td>NA(2)</td>\n",
       "      <td>0(1)</td>\n",
       "      <td>1.Google Laptop and Cell Phone Stickers | 2.0 ...</td>\n",
       "      <td>1.NA | 2.NA | 3.NA | 4.NA(2)</td>\n",
       "      <td>5.1(2)</td>\n",
       "      <td>5</td>\n",
       "      <td>(not set)</td>\n",
       "      <td>(not set) / (not set) / (not set)(2)</td>\n",
       "    </tr>\n",
       "    <tr>\n",
       "      <th>247357</th>\n",
       "      <td>5948801592119806757_1481664004</td>\n",
       "      <td>0</td>\n",
       "      <td>20161213</td>\n",
       "      <td>1481664004</td>\n",
       "      <td>Organic Search</td>\n",
       "      <td>2</td>\n",
       "      <td>2</td>\n",
       "      <td>2.0</td>\n",
       "      <td>16.0</td>\n",
       "      <td>NaN</td>\n",
       "      <td>...</td>\n",
       "      <td>The Google Merchandise Store - Log In(1) &gt; Pay...</td>\n",
       "      <td>NA(2)</td>\n",
       "      <td>NA(2)</td>\n",
       "      <td>16.06(1)</td>\n",
       "      <td>1.NA | 2.NA | 3.NA | 4.NA | 5.NA | 6.NA | 7.NA...</td>\n",
       "      <td>1.NA | 2.NA | 3.NA | 4.NA(2)</td>\n",
       "      <td>0(1) &gt; 5.2(1)</td>\n",
       "      <td>5</td>\n",
       "      <td>(not set)</td>\n",
       "      <td>(not set) / (not set) / (not set)(2)</td>\n",
       "    </tr>\n",
       "  </tbody>\n",
       "</table>\n",
       "<p>5 rows × 41 columns</p>\n",
       "</div>"
      ],
      "text/plain": [
       "                               session  converted     dates  visitStartTime  \\\n",
       "41026   3073078568683703817_1492455965          0  20170417      1492455965   \n",
       "65982   5590925533421505689_1477450661          0  20161025      1477450661   \n",
       "229150  6673624137905539505_1487086702          0  20170214      1487086702   \n",
       "246925  9833431631650180427_1471125943          0  20160813      1471125943   \n",
       "247357  5948801592119806757_1481664004          0  20161213      1481664004   \n",
       "\n",
       "       channelGrouping  visitNumber  hits  pageviews  timeOnSite  newVisits  \\\n",
       "41026           Direct            1     1        1.0         NaN        1.0   \n",
       "65982   Organic Search            2     1        1.0         NaN        NaN   \n",
       "229150          Direct            3     2        2.0       654.0        NaN   \n",
       "246925          Direct            1     2        1.0         NaN        1.0   \n",
       "247357  Organic Search            2     2        2.0        16.0        NaN   \n",
       "\n",
       "        ...                                      pageTitlePath  \\\n",
       "41026   ...                       Checkout Your Information(1)   \n",
       "65982   ...                                  Payment Method(1)   \n",
       "229150  ...    Shopping Cart(1) > Checkout Your Information(1)   \n",
       "246925  ...                       Checkout Your Information(2)   \n",
       "247357  ...  The Google Merchandise Store - Log In(1) > Pay...   \n",
       "\n",
       "        eventActionPath  eventLabelPath  hitTimeSpentPath  \\\n",
       "41026            nan(1)          nan(1)            nan(1)   \n",
       "65982            nan(1)          nan(1)            nan(1)   \n",
       "229150            NA(2)           NA(2)         653.81(1)   \n",
       "246925            NA(2)           NA(2)              0(1)   \n",
       "247357            NA(2)           NA(2)          16.06(1)   \n",
       "\n",
       "                                       productSummaryPath  \\\n",
       "41026   1.YouTube Men's Short Sleeve Hero Tee Black | ...   \n",
       "65982   1.Google Sunglasses | 2.0 | 3.(not set) | 4.NA...   \n",
       "229150  1.NA | 2.NA | 3.NA | 4.NA | 5.NA | 6.NA | 7.NA...   \n",
       "246925  1.Google Laptop and Cell Phone Stickers | 2.0 ...   \n",
       "247357  1.NA | 2.NA | 3.NA | 4.NA | 5.NA | 6.NA | 7.NA...   \n",
       "\n",
       "                promotionSummaryPath actionTypePath maxActionType  \\\n",
       "41026   1.NA | 2.NA | 3.NA | 4.NA(1)         5.1(1)             5   \n",
       "65982   1.NA | 2.NA | 3.NA | 4.NA(1)         5.2(1)             5   \n",
       "229150  1.NA | 2.NA | 3.NA | 4.NA(2)  0(1) > 5.1(1)             5   \n",
       "246925  1.NA | 2.NA | 3.NA | 4.NA(2)         5.1(2)             5   \n",
       "247357  1.NA | 2.NA | 3.NA | 4.NA(2)  0(1) > 5.2(1)             5   \n",
       "\n",
       "       socialNetwork                      contentGroupPath  \n",
       "41026      (not set)  (not set) / (not set) / (not set)(1)  \n",
       "65982      (not set)  (not set) / (not set) / (not set)(1)  \n",
       "229150     (not set)  (not set) / (not set) / (not set)(2)  \n",
       "246925     (not set)  (not set) / (not set) / (not set)(2)  \n",
       "247357     (not set)  (not set) / (not set) / (not set)(2)  \n",
       "\n",
       "[5 rows x 41 columns]"
      ]
     },
     "execution_count": 28,
     "metadata": {},
     "output_type": "execute_result"
    }
   ],
   "source": [
    "target_values = ['5.1', '5.2', '5.3', '6']\n",
    "\n",
    "# actionTypePath에 target_values 중 하나라도 포함된 행 추출\n",
    "df[df['actionTypePath'].str.contains('|'.join(target_values), na=False)].head()"
   ]
  },
  {
   "cell_type": "code",
   "execution_count": 29,
   "id": "a9f50b34",
   "metadata": {},
   "outputs": [
    {
     "data": {
      "text/html": [
       "<div>\n",
       "<style scoped>\n",
       "    .dataframe tbody tr th:only-of-type {\n",
       "        vertical-align: middle;\n",
       "    }\n",
       "\n",
       "    .dataframe tbody tr th {\n",
       "        vertical-align: top;\n",
       "    }\n",
       "\n",
       "    .dataframe thead th {\n",
       "        text-align: right;\n",
       "    }\n",
       "</style>\n",
       "<table border=\"1\" class=\"dataframe\">\n",
       "  <thead>\n",
       "    <tr style=\"text-align: right;\">\n",
       "      <th></th>\n",
       "      <th>session</th>\n",
       "      <th>converted</th>\n",
       "      <th>dates</th>\n",
       "      <th>visitStartTime</th>\n",
       "      <th>channelGrouping</th>\n",
       "      <th>visitNumber</th>\n",
       "      <th>hits</th>\n",
       "      <th>pageviews</th>\n",
       "      <th>timeOnSite</th>\n",
       "      <th>newVisits</th>\n",
       "      <th>...</th>\n",
       "      <th>pageTitlePath</th>\n",
       "      <th>eventActionPath</th>\n",
       "      <th>eventLabelPath</th>\n",
       "      <th>hitTimeSpentPath</th>\n",
       "      <th>productSummaryPath</th>\n",
       "      <th>promotionSummaryPath</th>\n",
       "      <th>actionTypePath</th>\n",
       "      <th>maxActionType</th>\n",
       "      <th>socialNetwork</th>\n",
       "      <th>contentGroupPath</th>\n",
       "    </tr>\n",
       "  </thead>\n",
       "  <tbody>\n",
       "    <tr>\n",
       "      <th>279316</th>\n",
       "      <td>1973770164859106217_1499279973</td>\n",
       "      <td>1</td>\n",
       "      <td>20170705</td>\n",
       "      <td>1499279973</td>\n",
       "      <td>Organic Search</td>\n",
       "      <td>2</td>\n",
       "      <td>3</td>\n",
       "      <td>3.0</td>\n",
       "      <td>64.0</td>\n",
       "      <td>NaN</td>\n",
       "      <td>...</td>\n",
       "      <td>Return Policy(1) &gt; Checkout Confirmation(2)</td>\n",
       "      <td>NA(3)</td>\n",
       "      <td>NA(3)</td>\n",
       "      <td>63.58(1) &gt; 0.01(1)</td>\n",
       "      <td>1.NA | 2.NA | 3.NA | 4.NA | 5.NA | 6.NA | 7.NA...</td>\n",
       "      <td>1.NA | 2.NA | 3.NA | 4.NA(3)</td>\n",
       "      <td>0(1) &gt; 6(2)</td>\n",
       "      <td>6</td>\n",
       "      <td>(not set)</td>\n",
       "      <td>(not set) / (not set) / (not set)(3)</td>\n",
       "    </tr>\n",
       "    <tr>\n",
       "      <th>282236</th>\n",
       "      <td>186231215995844689_1501525374</td>\n",
       "      <td>1</td>\n",
       "      <td>20170731</td>\n",
       "      <td>1501525374</td>\n",
       "      <td>Referral</td>\n",
       "      <td>3</td>\n",
       "      <td>4</td>\n",
       "      <td>4.0</td>\n",
       "      <td>96.0</td>\n",
       "      <td>NaN</td>\n",
       "      <td>...</td>\n",
       "      <td>Payment Method(1) &gt; Checkout Review(1) &gt; Check...</td>\n",
       "      <td>NA(4)</td>\n",
       "      <td>NA(4)</td>\n",
       "      <td>57.77(1) &gt; 38.69(1) &gt; 0.03(1)</td>\n",
       "      <td>1.Google Men's Bike Short Sleeve Tee Charcoal ...</td>\n",
       "      <td>1.NA | 2.NA | 3.NA | 4.NA(4)</td>\n",
       "      <td>5.2(1) &gt; 5.3(1) &gt; 6(2)</td>\n",
       "      <td>6</td>\n",
       "      <td>(not set)</td>\n",
       "      <td>(not set) / (not set) / (not set)(4)</td>\n",
       "    </tr>\n",
       "    <tr>\n",
       "      <th>282745</th>\n",
       "      <td>9383567792856137029_1497665011</td>\n",
       "      <td>1</td>\n",
       "      <td>20170616</td>\n",
       "      <td>1497665011</td>\n",
       "      <td>Organic Search</td>\n",
       "      <td>2</td>\n",
       "      <td>4</td>\n",
       "      <td>4.0</td>\n",
       "      <td>382.0</td>\n",
       "      <td>NaN</td>\n",
       "      <td>...</td>\n",
       "      <td>Google Online Store(1) &gt; Checkout Review(1) &gt; ...</td>\n",
       "      <td>NA(4)</td>\n",
       "      <td>NA(4)</td>\n",
       "      <td>168.86(1) &gt; 212.99(1) &gt; 0.01(1)</td>\n",
       "      <td>1.NA | 2.NA | 3.NA | 4.NA | 5.NA | 6.NA | 7.NA...</td>\n",
       "      <td>1.NA | 2.NA | 3.NA | 4.NA(4)</td>\n",
       "      <td>0(1) &gt; 5.3(1) &gt; 6(2)</td>\n",
       "      <td>6</td>\n",
       "      <td>(not set)</td>\n",
       "      <td>(not set) / (not set) / (not set)(4)</td>\n",
       "    </tr>\n",
       "    <tr>\n",
       "      <th>284626</th>\n",
       "      <td>7822178141511453911_1492903531</td>\n",
       "      <td>1</td>\n",
       "      <td>20170422</td>\n",
       "      <td>1492903531</td>\n",
       "      <td>Referral</td>\n",
       "      <td>4</td>\n",
       "      <td>4</td>\n",
       "      <td>4.0</td>\n",
       "      <td>36.0</td>\n",
       "      <td>NaN</td>\n",
       "      <td>...</td>\n",
       "      <td>Checkout Confirmation(4)</td>\n",
       "      <td>NA(4)</td>\n",
       "      <td>NA(4)</td>\n",
       "      <td>0(1) &gt; 35.86(1) &gt; 0.01(1)</td>\n",
       "      <td>1.Spiral Notebook and Pen Set | 2.0 | 3.(not s...</td>\n",
       "      <td>1.NA | 2.NA | 3.NA | 4.NA(4)</td>\n",
       "      <td>6(4)</td>\n",
       "      <td>6</td>\n",
       "      <td>(not set)</td>\n",
       "      <td>(not set) / (not set) / (not set)(4)</td>\n",
       "    </tr>\n",
       "    <tr>\n",
       "      <th>285063</th>\n",
       "      <td>2801499422088453532_1489136757</td>\n",
       "      <td>1</td>\n",
       "      <td>20170310</td>\n",
       "      <td>1489136757</td>\n",
       "      <td>Organic Search</td>\n",
       "      <td>9</td>\n",
       "      <td>4</td>\n",
       "      <td>2.0</td>\n",
       "      <td>139.0</td>\n",
       "      <td>NaN</td>\n",
       "      <td>...</td>\n",
       "      <td>Mugs &amp; Cups | Drinkware | Google Merchandise S...</td>\n",
       "      <td>NA(4)</td>\n",
       "      <td>NA(4)</td>\n",
       "      <td>0(2) &gt; 139.44(1)</td>\n",
       "      <td>1.Engraved Ceramic Google Mug | 2.1 | 3.Catego...</td>\n",
       "      <td>1.NA | 2.NA | 3.NA | 4.NA(4)</td>\n",
       "      <td>0(3) &gt; 6(1)</td>\n",
       "      <td>6</td>\n",
       "      <td>(not set)</td>\n",
       "      <td>(not set) / Drinkware / (not set)(4)</td>\n",
       "    </tr>\n",
       "  </tbody>\n",
       "</table>\n",
       "<p>5 rows × 41 columns</p>\n",
       "</div>"
      ],
      "text/plain": [
       "                               session  converted     dates  visitStartTime  \\\n",
       "279316  1973770164859106217_1499279973          1  20170705      1499279973   \n",
       "282236   186231215995844689_1501525374          1  20170731      1501525374   \n",
       "282745  9383567792856137029_1497665011          1  20170616      1497665011   \n",
       "284626  7822178141511453911_1492903531          1  20170422      1492903531   \n",
       "285063  2801499422088453532_1489136757          1  20170310      1489136757   \n",
       "\n",
       "       channelGrouping  visitNumber  hits  pageviews  timeOnSite  newVisits  \\\n",
       "279316  Organic Search            2     3        3.0        64.0        NaN   \n",
       "282236        Referral            3     4        4.0        96.0        NaN   \n",
       "282745  Organic Search            2     4        4.0       382.0        NaN   \n",
       "284626        Referral            4     4        4.0        36.0        NaN   \n",
       "285063  Organic Search            9     4        2.0       139.0        NaN   \n",
       "\n",
       "        ...                                      pageTitlePath  \\\n",
       "279316  ...        Return Policy(1) > Checkout Confirmation(2)   \n",
       "282236  ...  Payment Method(1) > Checkout Review(1) > Check...   \n",
       "282745  ...  Google Online Store(1) > Checkout Review(1) > ...   \n",
       "284626  ...                           Checkout Confirmation(4)   \n",
       "285063  ...  Mugs & Cups | Drinkware | Google Merchandise S...   \n",
       "\n",
       "        eventActionPath  eventLabelPath                 hitTimeSpentPath  \\\n",
       "279316            NA(3)           NA(3)               63.58(1) > 0.01(1)   \n",
       "282236            NA(4)           NA(4)    57.77(1) > 38.69(1) > 0.03(1)   \n",
       "282745            NA(4)           NA(4)  168.86(1) > 212.99(1) > 0.01(1)   \n",
       "284626            NA(4)           NA(4)        0(1) > 35.86(1) > 0.01(1)   \n",
       "285063            NA(4)           NA(4)                 0(2) > 139.44(1)   \n",
       "\n",
       "                                       productSummaryPath  \\\n",
       "279316  1.NA | 2.NA | 3.NA | 4.NA | 5.NA | 6.NA | 7.NA...   \n",
       "282236  1.Google Men's Bike Short Sleeve Tee Charcoal ...   \n",
       "282745  1.NA | 2.NA | 3.NA | 4.NA | 5.NA | 6.NA | 7.NA...   \n",
       "284626  1.Spiral Notebook and Pen Set | 2.0 | 3.(not s...   \n",
       "285063  1.Engraved Ceramic Google Mug | 2.1 | 3.Catego...   \n",
       "\n",
       "                promotionSummaryPath          actionTypePath maxActionType  \\\n",
       "279316  1.NA | 2.NA | 3.NA | 4.NA(3)             0(1) > 6(2)             6   \n",
       "282236  1.NA | 2.NA | 3.NA | 4.NA(4)  5.2(1) > 5.3(1) > 6(2)             6   \n",
       "282745  1.NA | 2.NA | 3.NA | 4.NA(4)    0(1) > 5.3(1) > 6(2)             6   \n",
       "284626  1.NA | 2.NA | 3.NA | 4.NA(4)                    6(4)             6   \n",
       "285063  1.NA | 2.NA | 3.NA | 4.NA(4)             0(3) > 6(1)             6   \n",
       "\n",
       "       socialNetwork                      contentGroupPath  \n",
       "279316     (not set)  (not set) / (not set) / (not set)(3)  \n",
       "282236     (not set)  (not set) / (not set) / (not set)(4)  \n",
       "282745     (not set)  (not set) / (not set) / (not set)(4)  \n",
       "284626     (not set)  (not set) / (not set) / (not set)(4)  \n",
       "285063     (not set)  (not set) / Drinkware / (not set)(4)  \n",
       "\n",
       "[5 rows x 41 columns]"
      ]
     },
     "execution_count": 29,
     "metadata": {},
     "output_type": "execute_result"
    }
   ],
   "source": [
    "target_values = ['6']\n",
    "\n",
    "# actionTypePath에 target_values 중 하나라도 포함된 행 추출\n",
    "df[df['actionTypePath'].str.contains('|'.join(target_values), na=False)].head()"
   ]
  },
  {
   "cell_type": "markdown",
   "id": "603d6b71",
   "metadata": {},
   "source": [
    "## 3.2 단계 전환율 계산"
   ]
  },
  {
   "cell_type": "code",
   "execution_count": 31,
   "id": "d579431c",
   "metadata": {},
   "outputs": [
    {
     "data": {
      "text/html": [
       "<div>\n",
       "<style scoped>\n",
       "    .dataframe tbody tr th:only-of-type {\n",
       "        vertical-align: middle;\n",
       "    }\n",
       "\n",
       "    .dataframe tbody tr th {\n",
       "        vertical-align: top;\n",
       "    }\n",
       "\n",
       "    .dataframe thead th {\n",
       "        text-align: right;\n",
       "    }\n",
       "</style>\n",
       "<table border=\"1\" class=\"dataframe\">\n",
       "  <thead>\n",
       "    <tr style=\"text-align: right;\">\n",
       "      <th></th>\n",
       "      <th>Users</th>\n",
       "      <th>Next Stage Users</th>\n",
       "      <th>Conversion Rate (%)</th>\n",
       "    </tr>\n",
       "    <tr>\n",
       "      <th>funnel_stage</th>\n",
       "      <th></th>\n",
       "      <th></th>\n",
       "      <th></th>\n",
       "    </tr>\n",
       "  </thead>\n",
       "  <tbody>\n",
       "    <tr>\n",
       "      <th>Stage 1</th>\n",
       "      <td>769607</td>\n",
       "      <td>79141.0</td>\n",
       "      <td>10.28</td>\n",
       "    </tr>\n",
       "    <tr>\n",
       "      <th>Stage 2</th>\n",
       "      <td>79141</td>\n",
       "      <td>31614.0</td>\n",
       "      <td>39.95</td>\n",
       "    </tr>\n",
       "    <tr>\n",
       "      <th>Stage 3</th>\n",
       "      <td>31614</td>\n",
       "      <td>10842.0</td>\n",
       "      <td>34.29</td>\n",
       "    </tr>\n",
       "    <tr>\n",
       "      <th>Stage 4</th>\n",
       "      <td>10842</td>\n",
       "      <td>11551.0</td>\n",
       "      <td>106.54</td>\n",
       "    </tr>\n",
       "    <tr>\n",
       "      <th>Stage 5</th>\n",
       "      <td>11551</td>\n",
       "      <td>NaN</td>\n",
       "      <td>NaN</td>\n",
       "    </tr>\n",
       "  </tbody>\n",
       "</table>\n",
       "</div>"
      ],
      "text/plain": [
       "               Users  Next Stage Users  Conversion Rate (%)\n",
       "funnel_stage                                               \n",
       "Stage 1       769607           79141.0                10.28\n",
       "Stage 2        79141           31614.0                39.95\n",
       "Stage 3        31614           10842.0                34.29\n",
       "Stage 4        10842           11551.0               106.54\n",
       "Stage 5        11551               NaN                  NaN"
      ]
     },
     "execution_count": 31,
     "metadata": {},
     "output_type": "execute_result"
    }
   ],
   "source": [
    "# 퍼널 단계 매핑\n",
    "def map_funnel_stage(x):\n",
    "    if x == 0:\n",
    "        return 'Stage 1'\n",
    "    elif x in [1, 2]:\n",
    "        return 'Stage 2'\n",
    "    elif x in [3, 4]:\n",
    "        return 'Stage 3'\n",
    "    elif x == 5:\n",
    "        return 'Stage 4'\n",
    "    elif x == 6:\n",
    "        return 'Stage 5'\n",
    "    else:\n",
    "        return 'Other'\n",
    "    \n",
    "# 퍼널 단계 컬럼 추가\n",
    "df['funnel_stage'] = df['maxActionType'].apply(map_funnel_stage)\n",
    "\n",
    "# 각 퍼널 단계별 이용자 수 집계\n",
    "stage_counts = df['funnel_stage'].value_counts().reindex(\n",
    "    ['Stage 1', 'Stage 2', 'Stage 3', 'Stage 4', 'Stage 5']\n",
    ")\n",
    "\n",
    "# 전환율 계산\n",
    "conversion_rates = stage_counts.shift(-1) / stage_counts * 100\n",
    "\n",
    "# 결과 정리\n",
    "funnel_summary = pd.DataFrame({\n",
    "    'Users': stage_counts,\n",
    "    'Next Stage Users': stage_counts.shift(-1),\n",
    "    'Conversion Rate (%)': conversion_rates.round(2)\n",
    "})\n",
    "\n",
    "funnel_summary"
   ]
  },
  {
   "cell_type": "code",
   "execution_count": 42,
   "id": "5e9886a1",
   "metadata": {},
   "outputs": [
    {
     "data": {
      "text/plain": [
       "np.float64(1.2795276680827024)"
      ]
     },
     "execution_count": 42,
     "metadata": {},
     "output_type": "execute_result"
    }
   ],
   "source": [
    "((df['converted'] == 1).sum() / len(df)) * 100"
   ]
  },
  {
   "cell_type": "markdown",
   "id": "3815ff9e",
   "metadata": {},
   "source": [
    "## 3.3 사용자별 히트 발생 순서 및 단계 전환 여부 판단 "
   ]
  },
  {
   "cell_type": "code",
   "execution_count": null,
   "id": "2003a925",
   "metadata": {},
   "outputs": [
    {
     "name": "stdout",
     "output_type": "stream",
     "text": [
      "                                session current_action next_action  \\\n",
      "0        2994779313411060498_1485443293              1           2   \n",
      "1        6528305531849384385_1497967043              4           0   \n",
      "2        7053347914091561295_1491771478              2           1   \n",
      "3        3847424392029075198_1479303819              2           1   \n",
      "4        1778829308736263765_1470244365              1           2   \n",
      "...                                 ...            ...         ...   \n",
      "1231321  0979536639244706985_1492648128              3           6   \n",
      "1231322  0979536639244706985_1492648128              6           0   \n",
      "1231323  0979536639244706985_1492648128              0           1   \n",
      "1231324  0979536639244706985_1492648128              1           2   \n",
      "1231325  0979536639244706985_1492648128              2           3   \n",
      "\n",
      "        conversion_status  \n",
      "0                     전환됨  \n",
      "1                   전환 실패  \n",
      "2                   전환 실패  \n",
      "3                   전환 실패  \n",
      "4                     전환됨  \n",
      "...                   ...  \n",
      "1231321             전환 실패  \n",
      "1231322             전환 실패  \n",
      "1231323               전환됨  \n",
      "1231324               전환됨  \n",
      "1231325               전환됨  \n",
      "\n",
      "[1231326 rows x 4 columns]\n"
     ]
    }
   ],
   "source": [
    "import re\n",
    "\n",
    "# 1. actionTypePath를 순서대로 분리\n",
    "def extract_action_sequence(path):\n",
    "    # '숫자(숫자)' 패턴에서 앞의 숫자만 가져오기\n",
    "    actions = re.findall(r'(\\d+)\\(\\d+\\)', path)\n",
    "    return actions\n",
    "\n",
    "# 컬럼 추가\n",
    "df['action_sequence'] = df['actionTypePath'].apply(extract_action_sequence)\n",
    "\n",
    "# 2. 사용자별(세션별) 현재 액션과 다음 액션 구하기\n",
    "def create_transition_df(row):\n",
    "    session_id = row['session']\n",
    "    actions = row['action_sequence']\n",
    "    transitions = []\n",
    "    for i in range(len(actions) - 1):\n",
    "        transitions.append({\n",
    "            'session': session_id,\n",
    "            'current_action': actions[i],\n",
    "            'next_action': actions[i+1]\n",
    "        })\n",
    "    return pd.DataFrame(transitions)\n",
    "\n",
    "# 모든 세션에 대해 transition 테이블 만들기\n",
    "transition_df_list = df.apply(create_transition_df, axis=1)\n",
    "transitions_df = pd.concat(transition_df_list.values, ignore_index=True)\n",
    "\n",
    "# 3. 퍼널 전환 판단하기 (예시: 0→1, 1→2, 2→3 이런 규칙 적용)\n",
    "def check_conversion(current, next_action):\n",
    "    if current == '0' and next_action == '1':\n",
    "        return '전환됨'\n",
    "    elif current == '1' and next_action == '2':\n",
    "        return '전환됨'\n",
    "    elif current == '2' and next_action == '3':\n",
    "        return '전환됨'\n",
    "    elif current == '3' and next_action == '4':\n",
    "        return '전환됨'\n",
    "    elif current == '4' and next_action == '5':\n",
    "        return '전환됨'\n",
    "    else:\n",
    "        return '전환 실패'\n",
    "\n",
    "transitions_df['conversion_status'] = transitions_df.apply(\n",
    "    lambda row: check_conversion(row['current_action'], row['next_action']),\n",
    "    axis=1\n",
    ")\n",
    "\n",
    "# 최종 결과\n",
    "print(transitions_df)\n"
   ]
  },
  {
   "cell_type": "markdown",
   "id": "677a5c1e",
   "metadata": {},
   "source": [
    "## 3.4 퍼널 차트 "
   ]
  },
  {
   "cell_type": "code",
   "execution_count": null,
   "id": "b64cc870",
   "metadata": {},
   "outputs": [
    {
     "ename": "SyntaxError",
     "evalue": "invalid syntax (1493899266.py, line 1)",
     "output_type": "error",
     "traceback": [
      "\u001b[1;36m  Cell \u001b[1;32mIn[36], line 1\u001b[1;36m\u001b[0m\n\u001b[1;33m    pip install matplotlib\u001b[0m\n\u001b[1;37m        ^\u001b[0m\n\u001b[1;31mSyntaxError\u001b[0m\u001b[1;31m:\u001b[0m invalid syntax\n"
     ]
    }
   ],
   "source": [
    "pip install matplotlib"
   ]
  },
  {
   "cell_type": "code",
   "execution_count": 34,
   "id": "0c20ab7a",
   "metadata": {},
   "outputs": [
    {
     "data": {
      "image/png": "[encoded data removed]",
      "text/plain": [
       "<Figure size 800x600 with 1 Axes>"
      ]
     },
     "metadata": {},
     "output_type": "display_data"
    }
   ],
   "source": [
    "import matplotlib.pyplot as plt\n",
    "\n",
    "# 퍼널 데이터\n",
    "stages = ['Stage 1', 'Stage 2', 'Stage 3', 'Stage 4', 'Stage 5']\n",
    "users = [769607, 79141, 31614, 10842, 11551]\n",
    "\n",
    "# 퍼널 형태로 만들기 위해 역순 정렬 (Stage 1이 위로)\n",
    "stages = stages[::-1]\n",
    "users = users[::-1]\n",
    "\n",
    "# 퍼널 차트 그리기\n",
    "fig, ax = plt.subplots(figsize=(8, 6))\n",
    "\n",
    "ax.barh(stages, users)\n",
    "\n",
    "# 숫자 라벨 추가\n",
    "for i, (stage, user) in enumerate(zip(stages, users)):\n",
    "    ax.text(user + 500, stage, f'{user:,}', va='center')\n",
    "\n",
    "ax.set_xlabel('Users')\n",
    "ax.set_title('Funnel Chart')\n",
    "plt.gca().invert_yaxis()  # Stage 1이 맨 위로 오게 반전\n",
    "\n",
    "plt.show()\n"
   ]
  },
  {
   "cell_type": "code",
   "execution_count": null,
   "id": "15fc4f77",
   "metadata": {},
   "outputs": [],
   "source": [
    "!pip install plotly"
   ]
  },
  {
   "cell_type": "code",
   "execution_count": 43,
   "id": "6a528828",
   "metadata": {},
   "outputs": [
    {
     "data": {
      "application/vnd.plotly.v1+json": {
       "config": {
        "plotlyServerURL": "https://plot.ly"
       },
       "data": [
        {
         "textinfo": "value+percent previous",
         "type": "funnel",
         "x": [
          769607,
          79141,
          31614,
          10842,
          11551
         ],
         "y": [
          "Stage 1",
          "Stage 2",
          "Stage 3",
          "Stage 4",
          "Stage 5"
         ]
        }
       ],
       "layout": {
        "template": {
         "data": {
          "bar": [
           {
            "error_x": {
             "color": "#2a3f5f"
            },
            "error_y": {
             "color": "#2a3f5f"
            },
            "marker": {
             "line": {
              "color": "#E5ECF6",
              "width": 0.5
             },
             "pattern": {
              "fillmode": "overlay",
              "size": 10,
              "solidity": 0.2
             }
            },
            "type": "bar"
           }
          ],
          "barpolar": [
           {
            "marker": {
             "line": {
              "color": "#E5ECF6",
              "width": 0.5
             },
             "pattern": {
              "fillmode": "overlay",
              "size": 10,
              "solidity": 0.2
             }
            },
            "type": "barpolar"
           }
          ],
          "carpet": [
           {
            "aaxis": {
             "endlinecolor": "#2a3f5f",
             "gridcolor": "white",
             "linecolor": "white",
             "minorgridcolor": "white",
             "startlinecolor": "#2a3f5f"
            },
            "baxis": {
             "endlinecolor": "#2a3f5f",
             "gridcolor": "white",
             "linecolor": "white",
             "minorgridcolor": "white",
             "startlinecolor": "#2a3f5f"
            },
            "type": "carpet"
           }
          ],
          "choropleth": [
           {
            "colorbar": {
             "outlinewidth": 0,
             "ticks": ""
            },
            "type": "choropleth"
           }
          ],
          "contour": [
           {
            "colorbar": {
             "outlinewidth": 0,
             "ticks": ""
            },
            "colorscale": [
             [
              0,
              "#0d0887"
             ],
             [
              0.1111111111111111,
              "#46039f"
             ],
             [
              0.2222222222222222,
              "#7201a8"
             ],
             [
              0.3333333333333333,
              "#9c179e"
             ],
             [
              0.4444444444444444,
              "#bd3786"
             ],
             [
              0.5555555555555556,
              "#d8576b"
             ],
             [
              0.6666666666666666,
              "#ed7953"
             ],
             [
              0.7777777777777778,
              "#fb9f3a"
             ],
             [
              0.8888888888888888,
              "#fdca26"
             ],
             [
              1,
              "#f0f921"
             ]
            ],
            "type": "contour"
           }
          ],
          "contourcarpet": [
           {
            "colorbar": {
             "outlinewidth": 0,
             "ticks": ""
            },
            "type": "contourcarpet"
           }
          ],
          "heatmap": [
           {
            "colorbar": {
             "outlinewidth": 0,
             "ticks": ""
            },
            "colorscale": [
             [
              0,
              "#0d0887"
             ],
             [
              0.1111111111111111,
              "#46039f"
             ],
             [
              0.2222222222222222,
              "#7201a8"
             ],
             [
              0.3333333333333333,
              "#9c179e"
             ],
             [
              0.4444444444444444,
              "#bd3786"
             ],
             [
              0.5555555555555556,
              "#d8576b"
             ],
             [
              0.6666666666666666,
              "#ed7953"
             ],
             [
              0.7777777777777778,
              "#fb9f3a"
             ],
             [
              0.8888888888888888,
              "#fdca26"
             ],
             [
              1,
              "#f0f921"
             ]
            ],
            "type": "heatmap"
           }
          ],
          "histogram": [
           {
            "marker": {
             "pattern": {
              "fillmode": "overlay",
              "size": 10,
              "solidity": 0.2
             }
            },
            "type": "histogram"
           }
          ],
          "histogram2d": [
           {
            "colorbar": {
             "outlinewidth": 0,
             "ticks": ""
            },
            "colorscale": [
             [
              0,
              "#0d0887"
             ],
             [
              0.1111111111111111,
              "#46039f"
             ],
             [
              0.2222222222222222,
              "#7201a8"
             ],
             [
              0.3333333333333333,
              "#9c179e"
             ],
             [
              0.4444444444444444,
              "#bd3786"
             ],
             [
              0.5555555555555556,
              "#d8576b"
             ],
             [
              0.6666666666666666,
              "#ed7953"
             ],
             [
              0.7777777777777778,
              "#fb9f3a"
             ],
             [
              0.8888888888888888,
              "#fdca26"
             ],
             [
              1,
              "#f0f921"
             ]
            ],
            "type": "histogram2d"
           }
          ],
          "histogram2dcontour": [
           {
            "colorbar": {
             "outlinewidth": 0,
             "ticks": ""
            },
            "colorscale": [
             [
              0,
              "#0d0887"
             ],
             [
              0.1111111111111111,
              "#46039f"
             ],
             [
              0.2222222222222222,
              "#7201a8"
             ],
             [
              0.3333333333333333,
              "#9c179e"
             ],
             [
              0.4444444444444444,
              "#bd3786"
             ],
             [
              0.5555555555555556,
              "#d8576b"
             ],
             [
              0.6666666666666666,
              "#ed7953"
             ],
             [
              0.7777777777777778,
              "#fb9f3a"
             ],
             [
              0.8888888888888888,
              "#fdca26"
             ],
             [
              1,
              "#f0f921"
             ]
            ],
            "type": "histogram2dcontour"
           }
          ],
          "mesh3d": [
           {
            "colorbar": {
             "outlinewidth": 0,
             "ticks": ""
            },
            "type": "mesh3d"
           }
          ],
          "parcoords": [
           {
            "line": {
             "colorbar": {
              "outlinewidth": 0,
              "ticks": ""
             }
            },
            "type": "parcoords"
           }
          ],
          "pie": [
           {
            "automargin": true,
            "type": "pie"
           }
          ],
          "scatter": [
           {
            "fillpattern": {
             "fillmode": "overlay",
             "size": 10,
             "solidity": 0.2
            },
            "type": "scatter"
           }
          ],
          "scatter3d": [
           {
            "line": {
             "colorbar": {
              "outlinewidth": 0,
              "ticks": ""
             }
            },
            "marker": {
             "colorbar": {
              "outlinewidth": 0,
              "ticks": ""
             }
            },
            "type": "scatter3d"
           }
          ],
          "scattercarpet": [
           {
            "marker": {
             "colorbar": {
              "outlinewidth": 0,
              "ticks": ""
             }
            },
            "type": "scattercarpet"
           }
          ],
          "scattergeo": [
           {
            "marker": {
             "colorbar": {
              "outlinewidth": 0,
              "ticks": ""
             }
            },
            "type": "scattergeo"
           }
          ],
          "scattergl": [
           {
            "marker": {
             "colorbar": {
              "outlinewidth": 0,
              "ticks": ""
             }
            },
            "type": "scattergl"
           }
          ],
          "scattermap": [
           {
            "marker": {
             "colorbar": {
              "outlinewidth": 0,
              "ticks": ""
             }
            },
            "type": "scattermap"
           }
          ],
          "scattermapbox": [
           {
            "marker": {
             "colorbar": {
              "outlinewidth": 0,
              "ticks": ""
             }
            },
            "type": "scattermapbox"
           }
          ],
          "scatterpolar": [
           {
            "marker": {
             "colorbar": {
              "outlinewidth": 0,
              "ticks": ""
             }
            },
            "type": "scatterpolar"
           }
          ],
          "scatterpolargl": [
           {
            "marker": {
             "colorbar": {
              "outlinewidth": 0,
              "ticks": ""
             }
            },
            "type": "scatterpolargl"
           }
          ],
          "scatterternary": [
           {
            "marker": {
             "colorbar": {
              "outlinewidth": 0,
              "ticks": ""
             }
            },
            "type": "scatterternary"
           }
          ],
          "surface": [
           {
            "colorbar": {
             "outlinewidth": 0,
             "ticks": ""
            },
            "colorscale": [
             [
              0,
              "#0d0887"
             ],
             [
              0.1111111111111111,
              "#46039f"
             ],
             [
              0.2222222222222222,
              "#7201a8"
             ],
             [
              0.3333333333333333,
              "#9c179e"
             ],
             [
              0.4444444444444444,
              "#bd3786"
             ],
             [
              0.5555555555555556,
              "#d8576b"
             ],
             [
              0.6666666666666666,
              "#ed7953"
             ],
             [
              0.7777777777777778,
              "#fb9f3a"
             ],
             [
              0.8888888888888888,
              "#fdca26"
             ],
             [
              1,
              "#f0f921"
             ]
            ],
            "type": "surface"
           }
          ],
          "table": [
           {
            "cells": {
             "fill": {
              "color": "#EBF0F8"
             },
             "line": {
              "color": "white"
             }
            },
            "header": {
             "fill": {
              "color": "#C8D4E3"
             },
             "line": {
              "color": "white"
             }
            },
            "type": "table"
           }
          ]
         },
         "layout": {
          "annotationdefaults": {
           "arrowcolor": "#2a3f5f",
           "arrowhead": 0,
           "arrowwidth": 1
          },
          "autotypenumbers": "strict",
          "coloraxis": {
           "colorbar": {
            "outlinewidth": 0,
            "ticks": ""
           }
          },
          "colorscale": {
           "diverging": [
            [
             0,
             "#8e0152"
            ],
            [
             0.1,
             "#c51b7d"
            ],
            [
             0.2,
             "#de77ae"
            ],
            [
             0.3,
             "#f1b6da"
            ],
            [
             0.4,
             "#fde0ef"
            ],
            [
             0.5,
             "#f7f7f7"
            ],
            [
             0.6,
             "#e6f5d0"
            ],
            [
             0.7,
             "#b8e186"
            ],
            [
             0.8,
             "#7fbc41"
            ],
            [
             0.9,
             "#4d9221"
            ],
            [
             1,
             "#276419"
            ]
           ],
           "sequential": [
            [
             0,
             "#0d0887"
            ],
            [
             0.1111111111111111,
             "#46039f"
            ],
            [
             0.2222222222222222,
             "#7201a8"
            ],
            [
             0.3333333333333333,
             "#9c179e"
            ],
            [
             0.4444444444444444,
             "#bd3786"
            ],
            [
             0.5555555555555556,
             "#d8576b"
            ],
            [
             0.6666666666666666,
             "#ed7953"
            ],
            [
             0.7777777777777778,
             "#fb9f3a"
            ],
            [
             0.8888888888888888,
             "#fdca26"
            ],
            [
             1,
             "#f0f921"
            ]
           ],
           "sequentialminus": [
            [
             0,
             "#0d0887"
            ],
            [
             0.1111111111111111,
             "#46039f"
            ],
            [
             0.2222222222222222,
             "#7201a8"
            ],
            [
             0.3333333333333333,
             "#9c179e"
            ],
            [
             0.4444444444444444,
             "#bd3786"
            ],
            [
             0.5555555555555556,
             "#d8576b"
            ],
            [
             0.6666666666666666,
             "#ed7953"
            ],
            [
             0.7777777777777778,
             "#fb9f3a"
            ],
            [
             0.8888888888888888,
             "#fdca26"
            ],
            [
             1,
             "#f0f921"
            ]
           ]
          },
          "colorway": [
           "#636efa",
           "#EF553B",
           "#00cc96",
           "#ab63fa",
           "#FFA15A",
           "#19d3f3",
           "#FF6692",
           "#B6E880",
           "#FF97FF",
           "#FECB52"
          ],
          "font": {
           "color": "#2a3f5f"
          },
          "geo": {
           "bgcolor": "white",
           "lakecolor": "white",
           "landcolor": "#E5ECF6",
           "showlakes": true,
           "showland": true,
           "subunitcolor": "white"
          },
          "hoverlabel": {
           "align": "left"
          },
          "hovermode": "closest",
          "mapbox": {
           "style": "light"
          },
          "paper_bgcolor": "white",
          "plot_bgcolor": "#E5ECF6",
          "polar": {
           "angularaxis": {
            "gridcolor": "white",
            "linecolor": "white",
            "ticks": ""
           },
           "bgcolor": "#E5ECF6",
           "radialaxis": {
            "gridcolor": "white",
            "linecolor": "white",
            "ticks": ""
           }
          },
          "scene": {
           "xaxis": {
            "backgroundcolor": "#E5ECF6",
            "gridcolor": "white",
            "gridwidth": 2,
            "linecolor": "white",
            "showbackground": true,
            "ticks": "",
            "zerolinecolor": "white"
           },
           "yaxis": {
            "backgroundcolor": "#E5ECF6",
            "gridcolor": "white",
            "gridwidth": 2,
            "linecolor": "white",
            "showbackground": true,
            "ticks": "",
            "zerolinecolor": "white"
           },
           "zaxis": {
            "backgroundcolor": "#E5ECF6",
            "gridcolor": "white",
            "gridwidth": 2,
            "linecolor": "white",
            "showbackground": true,
            "ticks": "",
            "zerolinecolor": "white"
           }
          },
          "shapedefaults": {
           "line": {
            "color": "#2a3f5f"
           }
          },
          "ternary": {
           "aaxis": {
            "gridcolor": "white",
            "linecolor": "white",
            "ticks": ""
           },
           "baxis": {
            "gridcolor": "white",
            "linecolor": "white",
            "ticks": ""
           },
           "bgcolor": "#E5ECF6",
           "caxis": {
            "gridcolor": "white",
            "linecolor": "white",
            "ticks": ""
           }
          },
          "title": {
           "x": 0.05
          },
          "xaxis": {
           "automargin": true,
           "gridcolor": "white",
           "linecolor": "white",
           "ticks": "",
           "title": {
            "standoff": 15
           },
           "zerolinecolor": "white",
           "zerolinewidth": 2
          },
          "yaxis": {
           "automargin": true,
           "gridcolor": "white",
           "linecolor": "white",
           "ticks": "",
           "title": {
            "standoff": 15
           },
           "zerolinecolor": "white",
           "zerolinewidth": 2
          }
         }
        },
        "title": {
         "text": "Funnel Chart (Plotly 버전)"
        }
       }
      }
     },
     "metadata": {},
     "output_type": "display_data"
    }
   ],
   "source": [
    "import plotly.graph_objects as go\n",
    "\n",
    "# 퍼널 데이터\n",
    "stages = ['Stage 1', 'Stage 2', 'Stage 3', 'Stage 4', 'Stage 5']\n",
    "users = [769607, 79141, 31614, 10842, 11551]\n",
    "\n",
    "# 퍼널 차트 그리기\n",
    "fig = go.Figure(go.Funnel(\n",
    "    y = stages,\n",
    "    x = users,\n",
    "    textinfo = \"value+percent previous\"\n",
    "))\n",
    "\n",
    "fig.update_layout(title='Funnel Chart (Plotly 버전)')\n",
    "\n",
    "fig.show()\n"
   ]
  },
  {
   "cell_type": "code",
   "execution_count": null,
   "id": "3d0e3168",
   "metadata": {},
   "outputs": [
    {
     "name": "stderr",
     "output_type": "stream",
     "text": [
      "c:\\Users\\cysy0\\AppData\\Local\\Programs\\Python\\Python313\\Lib\\site-packages\\IPython\\core\\pylabtools.py:170: UserWarning:\n",
      "\n",
      "Glyph 49324 (\\N{HANGUL SYLLABLE SA}) missing from font(s) DejaVu Sans.\n",
      "\n",
      "c:\\Users\\cysy0\\AppData\\Local\\Programs\\Python\\Python313\\Lib\\site-packages\\IPython\\core\\pylabtools.py:170: UserWarning:\n",
      "\n",
      "Glyph 45796 (\\N{HANGUL SYLLABLE DA}) missing from font(s) DejaVu Sans.\n",
      "\n",
      "c:\\Users\\cysy0\\AppData\\Local\\Programs\\Python\\Python313\\Lib\\site-packages\\IPython\\core\\pylabtools.py:170: UserWarning:\n",
      "\n",
      "Glyph 47532 (\\N{HANGUL SYLLABLE RI}) missing from font(s) DejaVu Sans.\n",
      "\n",
      "c:\\Users\\cysy0\\AppData\\Local\\Programs\\Python\\Python313\\Lib\\site-packages\\IPython\\core\\pylabtools.py:170: UserWarning:\n",
      "\n",
      "Glyph 44852 (\\N{HANGUL SYLLABLE GGOL}) missing from font(s) DejaVu Sans.\n",
      "\n",
      "c:\\Users\\cysy0\\AppData\\Local\\Programs\\Python\\Python313\\Lib\\site-packages\\IPython\\core\\pylabtools.py:170: UserWarning:\n",
      "\n",
      "Glyph 54805 (\\N{HANGUL SYLLABLE HYEONG}) missing from font(s) DejaVu Sans.\n",
      "\n",
      "c:\\Users\\cysy0\\AppData\\Local\\Programs\\Python\\Python313\\Lib\\site-packages\\IPython\\core\\pylabtools.py:170: UserWarning:\n",
      "\n",
      "Glyph 53468 (\\N{HANGUL SYLLABLE TAE}) missing from font(s) DejaVu Sans.\n",
      "\n"
     ]
    },
    {
     "data": {
      "image/png": "[encoded data removed]",
      "text/plain": [
       "<Figure size 800x600 with 1 Axes>"
      ]
     },
     "metadata": {},
     "output_type": "display_data"
    }
   ],
   "source": [
    "import matplotlib.pyplot as plt\n",
    "import numpy as np\n",
    "\n",
    "'''\n",
    "커스터마이징 가능\n",
    "'''\n",
    "\n",
    "# 퍼널 데이터\n",
    "stages = ['Stage 1', 'Stage 2', 'Stage 3', 'Stage 4', 'Stage 5']\n",
    "users = [769607, 79141, 31614, 10842, 11551]\n",
    "\n",
    "# 비율로 변환 (가장 큰 Stage를 100%로 맞추기)\n",
    "max_users = max(users)\n",
    "widths = [user / max_users for user in users]\n",
    "\n",
    "# 단계 수\n",
    "n_stages = len(stages)\n",
    "\n",
    "# 차트 그리기\n",
    "fig, ax = plt.subplots(figsize=(8, 6))\n",
    "\n",
    "for i in range(n_stages):\n",
    "    left = (1 - widths[i]) / 2  # 중앙 정렬\n",
    "    ax.barh(y=i, width=widths[i], height=0.6, left=left, color='skyblue', edgecolor='black')\n",
    "\n",
    "    # 단계명과 수치 표시\n",
    "    ax.text(0.5, i, f'{stages[i]}: {users[i]:,}', ha='center', va='center', fontsize=10, color='black')\n",
    "\n",
    "# 축 설정\n",
    "ax.set_yticks([])\n",
    "ax.set_xticks([])\n",
    "ax.invert_yaxis()  # Stage 1이 맨 위로\n",
    "ax.set_xlim(0, 1)\n",
    "ax.set_title('Funnel Chart (사다리꼴 형태)', fontsize=14)\n",
    "\n",
    "plt.show()\n"
   ]
  },
  {
   "cell_type": "markdown",
   "id": "f2fc05a1",
   "metadata": {},
   "source": [
    "# 4. 분석 (지표 계산 및 결과 해석)"
   ]
  },
  {
   "cell_type": "markdown",
   "id": "13818ab4",
   "metadata": {},
   "source": [
    "## 4.1 단계별 전환율과 이탈율(drop-off) 계산"
   ]
  },
  {
   "cell_type": "code",
   "execution_count": 50,
   "id": "5cf3a870",
   "metadata": {},
   "outputs": [
    {
     "data": {
      "text/html": [
       "<div>\n",
       "<style scoped>\n",
       "    .dataframe tbody tr th:only-of-type {\n",
       "        vertical-align: middle;\n",
       "    }\n",
       "\n",
       "    .dataframe tbody tr th {\n",
       "        vertical-align: top;\n",
       "    }\n",
       "\n",
       "    .dataframe thead th {\n",
       "        text-align: right;\n",
       "    }\n",
       "</style>\n",
       "<table border=\"1\" class=\"dataframe\">\n",
       "  <thead>\n",
       "    <tr style=\"text-align: right;\">\n",
       "      <th></th>\n",
       "      <th>Stage</th>\n",
       "      <th>Users</th>\n",
       "      <th>Next Stage Users</th>\n",
       "      <th>Conversion Rate (%)</th>\n",
       "      <th>Drop-off Users</th>\n",
       "      <th>Drop-off Rate (%)</th>\n",
       "    </tr>\n",
       "  </thead>\n",
       "  <tbody>\n",
       "    <tr>\n",
       "      <th>0</th>\n",
       "      <td>방문 및 탐색 (0)</td>\n",
       "      <td>769607</td>\n",
       "      <td>79141.0</td>\n",
       "      <td>10.283300</td>\n",
       "      <td>690466.0</td>\n",
       "      <td>89.716700</td>\n",
       "    </tr>\n",
       "    <tr>\n",
       "      <th>1</th>\n",
       "      <td>상세 페이지 조회 (1,2)</td>\n",
       "      <td>79141</td>\n",
       "      <td>31614.0</td>\n",
       "      <td>39.946425</td>\n",
       "      <td>47527.0</td>\n",
       "      <td>60.053575</td>\n",
       "    </tr>\n",
       "    <tr>\n",
       "      <th>2</th>\n",
       "      <td>장바구니 추가 (3,4)</td>\n",
       "      <td>31614</td>\n",
       "      <td>10842.0</td>\n",
       "      <td>34.294933</td>\n",
       "      <td>20772.0</td>\n",
       "      <td>65.705067</td>\n",
       "    </tr>\n",
       "    <tr>\n",
       "      <th>3</th>\n",
       "      <td>결제 진행 (5)</td>\n",
       "      <td>10842</td>\n",
       "      <td>11551.0</td>\n",
       "      <td>106.539384</td>\n",
       "      <td>-709.0</td>\n",
       "      <td>-6.539384</td>\n",
       "    </tr>\n",
       "    <tr>\n",
       "      <th>4</th>\n",
       "      <td>구매 완료 (6)</td>\n",
       "      <td>11551</td>\n",
       "      <td>NaN</td>\n",
       "      <td>NaN</td>\n",
       "      <td>NaN</td>\n",
       "      <td>NaN</td>\n",
       "    </tr>\n",
       "  </tbody>\n",
       "</table>\n",
       "</div>"
      ],
      "text/plain": [
       "             Stage   Users  Next Stage Users  Conversion Rate (%)  \\\n",
       "0      방문 및 탐색 (0)  769607           79141.0            10.283300   \n",
       "1  상세 페이지 조회 (1,2)   79141           31614.0            39.946425   \n",
       "2    장바구니 추가 (3,4)   31614           10842.0            34.294933   \n",
       "3        결제 진행 (5)   10842           11551.0           106.539384   \n",
       "4        구매 완료 (6)   11551               NaN                  NaN   \n",
       "\n",
       "   Drop-off Users  Drop-off Rate (%)  \n",
       "0        690466.0          89.716700  \n",
       "1         47527.0          60.053575  \n",
       "2         20772.0          65.705067  \n",
       "3          -709.0          -6.539384  \n",
       "4             NaN                NaN  "
      ]
     },
     "execution_count": 50,
     "metadata": {},
     "output_type": "execute_result"
    }
   ],
   "source": [
    "import pandas as pd\n",
    "\n",
    "# 데이터 준비\n",
    "funnel_data = {\n",
    "    'Stage': [\n",
    "        '방문 및 탐색 (0)', \n",
    "        '상세 페이지 조회 (1,2)', \n",
    "        '장바구니 추가 (3,4)', \n",
    "        '결제 진행 (5)', \n",
    "        '구매 완료 (6)'\n",
    "    ],\n",
    "    'Users': [769607, 79141, 31614, 10842, 11551]\n",
    "}\n",
    "\n",
    "# funnel_df 생성\n",
    "funnel_df = pd.DataFrame(funnel_data)\n",
    "\n",
    "# 다음 단계 사용자 수\n",
    "funnel_df['Next Stage Users'] = funnel_df['Users'].shift(-1)\n",
    "\n",
    "# 다음 단계로 진행하는 비율 (전환율)\n",
    "funnel_df['Conversion Rate (%)'] = (funnel_df['Next Stage Users'] / funnel_df['Users']) * 100\n",
    "\n",
    "# 이전 단계 대비 이탈자 수\n",
    "funnel_df['Drop-off Users'] = funnel_df['Users'] - funnel_df['Next Stage Users']\n",
    "\n",
    "# 이전 단계 대비 이탈자 비율 (이탈율)\n",
    "funnel_df['Drop-off Rate (%)'] = (funnel_df['Drop-off Users'] / funnel_df['Users']) * 100\n",
    "\n",
    "# # 병목 구간 판단 (이탈율 50% 초과이면 병목)\n",
    "# threshold = 50  # 기준 (원하면 조정 가능)\n",
    "# funnel_df['Bottleneck'] = funnel_df['Drop-off Rate (%)'] > threshold\n",
    "\n",
    "# 최종 결과\n",
    "funnel_df\n"
   ]
  }
 ],
 "metadata": {
  "kernelspec": {
   "display_name": "Python 3",
   "language": "python",
   "name": "python3"
  },
  "language_info": {
   "codemirror_mode": {
    "name": "ipython",
    "version": 3
   },
   "file_extension": ".py",
   "mimetype": "text/x-python",
   "name": "python",
   "nbconvert_exporter": "python",
   "pygments_lexer": "ipython3",
   "version": "3.13.1"
  }
 },
 "nbformat": 4,
 "nbformat_minor": 5
}
